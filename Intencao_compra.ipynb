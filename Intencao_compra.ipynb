{
 "cells": [
  {
   "cell_type": "markdown",
   "id": "ca67fa36",
   "metadata": {},
   "source": [
    "# DEFINIÇÃO DO PROBLEMA DE NEGÓCIO"
   ]
  },
  {
   "cell_type": "markdown",
   "id": "fa27879a",
   "metadata": {},
   "source": [
    "![title](imagens/imagem.jpg)"
   ]
  },
  {
   "cell_type": "markdown",
   "id": "3128337d",
   "metadata": {},
   "source": [
    "* A base de dados esta disponível em - **https://archive.ics.uci.edu/ml/datasets/Online+Shoppers+Purchasing+Intention+Dataset**\n",
    "\n",
    " O conjunto de dados consiste em vetores de recursos pertencentes a 12.330 sessões online. O conjunto de dados foi formado de modo que cada sessão pertença a um usuário diferente em um período de 1 ano para evitar qualquer tendência para uma campanha específica, dia especial, usuário, perfil ou período.\n",
    "\n",
    "O conjunto de dados consiste em 10 atributos numéricos e 8 categóricos. O atributo 'Revenue' pode ser usado como o rótulo da classe."
   ]
  },
  {
   "cell_type": "markdown",
   "id": "cf892f15",
   "metadata": {},
   "source": [
    "# IMPORTAÇÃO DE BIBLIOTECAS"
   ]
  },
  {
   "cell_type": "code",
   "execution_count": 1,
   "id": "becc4ad7",
   "metadata": {},
   "outputs": [],
   "source": [
    "import time\n",
    "import pandas as pd\n",
    "import numpy as np\n",
    "from sklearn.preprocessing import (StandardScaler, LabelEncoder)\n",
    "from sklearn.model_selection import (GridSearchCV, train_test_split)\n",
    "from sklearn.metrics import (precision_score, recall_score, f1_score, accuracy_score, roc_auc_score)\n",
    "from sklearn import svm\n",
    "import matplotlib.pyplot as plt\n",
    "import seaborn as sns"
   ]
  },
  {
   "cell_type": "markdown",
   "id": "5746c4f1",
   "metadata": {},
   "source": [
    "# CARGA DE DADOS"
   ]
  },
  {
   "cell_type": "code",
   "execution_count": 2,
   "id": "58508d3a",
   "metadata": {},
   "outputs": [],
   "source": [
    "# Carregando os dados.\n",
    "df = pd.read_csv('FCD/FCD/MachineLearning/Cap 11/dados/online_shoppers_intention.csv')"
   ]
  },
  {
   "cell_type": "markdown",
   "id": "6e60a323",
   "metadata": {},
   "source": [
    "# ANÁLISE EXPLORATÓRIA"
   ]
  },
  {
   "cell_type": "code",
   "execution_count": 3,
   "id": "103bb3ee",
   "metadata": {},
   "outputs": [
    {
     "data": {
      "text/html": [
       "<div>\n",
       "<style scoped>\n",
       "    .dataframe tbody tr th:only-of-type {\n",
       "        vertical-align: middle;\n",
       "    }\n",
       "\n",
       "    .dataframe tbody tr th {\n",
       "        vertical-align: top;\n",
       "    }\n",
       "\n",
       "    .dataframe thead th {\n",
       "        text-align: right;\n",
       "    }\n",
       "</style>\n",
       "<table border=\"1\" class=\"dataframe\">\n",
       "  <thead>\n",
       "    <tr style=\"text-align: right;\">\n",
       "      <th></th>\n",
       "      <th>Administrative</th>\n",
       "      <th>Administrative_Duration</th>\n",
       "      <th>Informational</th>\n",
       "      <th>Informational_Duration</th>\n",
       "      <th>ProductRelated</th>\n",
       "      <th>ProductRelated_Duration</th>\n",
       "      <th>BounceRates</th>\n",
       "      <th>ExitRates</th>\n",
       "      <th>PageValues</th>\n",
       "      <th>SpecialDay</th>\n",
       "      <th>Month</th>\n",
       "      <th>OperatingSystems</th>\n",
       "      <th>Browser</th>\n",
       "      <th>Region</th>\n",
       "      <th>TrafficType</th>\n",
       "      <th>VisitorType</th>\n",
       "      <th>Weekend</th>\n",
       "      <th>Revenue</th>\n",
       "    </tr>\n",
       "  </thead>\n",
       "  <tbody>\n",
       "    <tr>\n",
       "      <th>0</th>\n",
       "      <td>0.0</td>\n",
       "      <td>0.0</td>\n",
       "      <td>0.0</td>\n",
       "      <td>0.0</td>\n",
       "      <td>1.0</td>\n",
       "      <td>0.000000</td>\n",
       "      <td>0.20</td>\n",
       "      <td>0.20</td>\n",
       "      <td>0.0</td>\n",
       "      <td>0.0</td>\n",
       "      <td>Feb</td>\n",
       "      <td>1</td>\n",
       "      <td>1</td>\n",
       "      <td>1</td>\n",
       "      <td>1</td>\n",
       "      <td>Returning_Visitor</td>\n",
       "      <td>False</td>\n",
       "      <td>False</td>\n",
       "    </tr>\n",
       "    <tr>\n",
       "      <th>1</th>\n",
       "      <td>0.0</td>\n",
       "      <td>0.0</td>\n",
       "      <td>0.0</td>\n",
       "      <td>0.0</td>\n",
       "      <td>2.0</td>\n",
       "      <td>64.000000</td>\n",
       "      <td>0.00</td>\n",
       "      <td>0.10</td>\n",
       "      <td>0.0</td>\n",
       "      <td>0.0</td>\n",
       "      <td>Feb</td>\n",
       "      <td>2</td>\n",
       "      <td>2</td>\n",
       "      <td>1</td>\n",
       "      <td>2</td>\n",
       "      <td>Returning_Visitor</td>\n",
       "      <td>False</td>\n",
       "      <td>False</td>\n",
       "    </tr>\n",
       "    <tr>\n",
       "      <th>2</th>\n",
       "      <td>0.0</td>\n",
       "      <td>-1.0</td>\n",
       "      <td>0.0</td>\n",
       "      <td>-1.0</td>\n",
       "      <td>1.0</td>\n",
       "      <td>-1.000000</td>\n",
       "      <td>0.20</td>\n",
       "      <td>0.20</td>\n",
       "      <td>0.0</td>\n",
       "      <td>0.0</td>\n",
       "      <td>Feb</td>\n",
       "      <td>4</td>\n",
       "      <td>1</td>\n",
       "      <td>9</td>\n",
       "      <td>3</td>\n",
       "      <td>Returning_Visitor</td>\n",
       "      <td>False</td>\n",
       "      <td>False</td>\n",
       "    </tr>\n",
       "    <tr>\n",
       "      <th>3</th>\n",
       "      <td>0.0</td>\n",
       "      <td>0.0</td>\n",
       "      <td>0.0</td>\n",
       "      <td>0.0</td>\n",
       "      <td>2.0</td>\n",
       "      <td>2.666667</td>\n",
       "      <td>0.05</td>\n",
       "      <td>0.14</td>\n",
       "      <td>0.0</td>\n",
       "      <td>0.0</td>\n",
       "      <td>Feb</td>\n",
       "      <td>3</td>\n",
       "      <td>2</td>\n",
       "      <td>2</td>\n",
       "      <td>4</td>\n",
       "      <td>Returning_Visitor</td>\n",
       "      <td>False</td>\n",
       "      <td>False</td>\n",
       "    </tr>\n",
       "    <tr>\n",
       "      <th>4</th>\n",
       "      <td>0.0</td>\n",
       "      <td>0.0</td>\n",
       "      <td>0.0</td>\n",
       "      <td>0.0</td>\n",
       "      <td>10.0</td>\n",
       "      <td>627.500000</td>\n",
       "      <td>0.02</td>\n",
       "      <td>0.05</td>\n",
       "      <td>0.0</td>\n",
       "      <td>0.0</td>\n",
       "      <td>Feb</td>\n",
       "      <td>3</td>\n",
       "      <td>3</td>\n",
       "      <td>1</td>\n",
       "      <td>4</td>\n",
       "      <td>Returning_Visitor</td>\n",
       "      <td>True</td>\n",
       "      <td>False</td>\n",
       "    </tr>\n",
       "  </tbody>\n",
       "</table>\n",
       "</div>"
      ],
      "text/plain": [
       "   Administrative  Administrative_Duration  Informational  \\\n",
       "0             0.0                      0.0            0.0   \n",
       "1             0.0                      0.0            0.0   \n",
       "2             0.0                     -1.0            0.0   \n",
       "3             0.0                      0.0            0.0   \n",
       "4             0.0                      0.0            0.0   \n",
       "\n",
       "   Informational_Duration  ProductRelated  ProductRelated_Duration  \\\n",
       "0                     0.0             1.0                 0.000000   \n",
       "1                     0.0             2.0                64.000000   \n",
       "2                    -1.0             1.0                -1.000000   \n",
       "3                     0.0             2.0                 2.666667   \n",
       "4                     0.0            10.0               627.500000   \n",
       "\n",
       "   BounceRates  ExitRates  PageValues  SpecialDay Month  OperatingSystems  \\\n",
       "0         0.20       0.20         0.0         0.0   Feb                 1   \n",
       "1         0.00       0.10         0.0         0.0   Feb                 2   \n",
       "2         0.20       0.20         0.0         0.0   Feb                 4   \n",
       "3         0.05       0.14         0.0         0.0   Feb                 3   \n",
       "4         0.02       0.05         0.0         0.0   Feb                 3   \n",
       "\n",
       "   Browser  Region  TrafficType        VisitorType  Weekend  Revenue  \n",
       "0        1       1            1  Returning_Visitor    False    False  \n",
       "1        2       1            2  Returning_Visitor    False    False  \n",
       "2        1       9            3  Returning_Visitor    False    False  \n",
       "3        2       2            4  Returning_Visitor    False    False  \n",
       "4        3       1            4  Returning_Visitor     True    False  "
      ]
     },
     "execution_count": 3,
     "metadata": {},
     "output_type": "execute_result"
    }
   ],
   "source": [
    "# Visualizando os dados.\n",
    "df.head()"
   ]
  },
  {
   "cell_type": "code",
   "execution_count": 4,
   "id": "ab1024b2",
   "metadata": {},
   "outputs": [
    {
     "data": {
      "text/plain": [
       "(12330, 18)"
      ]
     },
     "execution_count": 4,
     "metadata": {},
     "output_type": "execute_result"
    }
   ],
   "source": [
    "# Quantidade de observações e atributos.\n",
    "df.shape"
   ]
  },
  {
   "cell_type": "code",
   "execution_count": 5,
   "id": "7ecda24c",
   "metadata": {},
   "outputs": [
    {
     "name": "stdout",
     "output_type": "stream",
     "text": [
      "<class 'pandas.core.frame.DataFrame'>\n",
      "RangeIndex: 12330 entries, 0 to 12329\n",
      "Data columns (total 18 columns):\n",
      " #   Column                   Non-Null Count  Dtype  \n",
      "---  ------                   --------------  -----  \n",
      " 0   Administrative           12316 non-null  float64\n",
      " 1   Administrative_Duration  12316 non-null  float64\n",
      " 2   Informational            12316 non-null  float64\n",
      " 3   Informational_Duration   12316 non-null  float64\n",
      " 4   ProductRelated           12316 non-null  float64\n",
      " 5   ProductRelated_Duration  12316 non-null  float64\n",
      " 6   BounceRates              12316 non-null  float64\n",
      " 7   ExitRates                12316 non-null  float64\n",
      " 8   PageValues               12330 non-null  float64\n",
      " 9   SpecialDay               12330 non-null  float64\n",
      " 10  Month                    12330 non-null  object \n",
      " 11  OperatingSystems         12330 non-null  int64  \n",
      " 12  Browser                  12330 non-null  int64  \n",
      " 13  Region                   12330 non-null  int64  \n",
      " 14  TrafficType              12330 non-null  int64  \n",
      " 15  VisitorType              12330 non-null  object \n",
      " 16  Weekend                  12330 non-null  bool   \n",
      " 17  Revenue                  12330 non-null  bool   \n",
      "dtypes: bool(2), float64(10), int64(4), object(2)\n",
      "memory usage: 1.5+ MB\n"
     ]
    }
   ],
   "source": [
    "# Metadados dos dados.\n",
    "df.info()"
   ]
  },
  {
   "cell_type": "code",
   "execution_count": 6,
   "id": "486ab218",
   "metadata": {},
   "outputs": [
    {
     "data": {
      "text/plain": [
       "Administrative             14\n",
       "Administrative_Duration    14\n",
       "Informational              14\n",
       "Informational_Duration     14\n",
       "ProductRelated             14\n",
       "ProductRelated_Duration    14\n",
       "BounceRates                14\n",
       "ExitRates                  14\n",
       "PageValues                  0\n",
       "SpecialDay                  0\n",
       "Month                       0\n",
       "OperatingSystems            0\n",
       "Browser                     0\n",
       "Region                      0\n",
       "TrafficType                 0\n",
       "VisitorType                 0\n",
       "Weekend                     0\n",
       "Revenue                     0\n",
       "dtype: int64"
      ]
     },
     "execution_count": 6,
     "metadata": {},
     "output_type": "execute_result"
    }
   ],
   "source": [
    "# Valores faltantes. \n",
    "df.isnull().sum()"
   ]
  },
  {
   "cell_type": "code",
   "execution_count": 7,
   "id": "2e02f40a",
   "metadata": {},
   "outputs": [],
   "source": [
    "# Removendo valores faltantes \n",
    "df.dropna(inplace = True)"
   ]
  },
  {
   "cell_type": "code",
   "execution_count": 8,
   "id": "85b52211",
   "metadata": {},
   "outputs": [
    {
     "data": {
      "text/plain": [
       "Administrative             0\n",
       "Administrative_Duration    0\n",
       "Informational              0\n",
       "Informational_Duration     0\n",
       "ProductRelated             0\n",
       "ProductRelated_Duration    0\n",
       "BounceRates                0\n",
       "ExitRates                  0\n",
       "PageValues                 0\n",
       "SpecialDay                 0\n",
       "Month                      0\n",
       "OperatingSystems           0\n",
       "Browser                    0\n",
       "Region                     0\n",
       "TrafficType                0\n",
       "VisitorType                0\n",
       "Weekend                    0\n",
       "Revenue                    0\n",
       "dtype: int64"
      ]
     },
     "execution_count": 8,
     "metadata": {},
     "output_type": "execute_result"
    }
   ],
   "source": [
    "# Valores faltantes \n",
    "df.isnull().sum()"
   ]
  },
  {
   "cell_type": "code",
   "execution_count": 9,
   "id": "d79c65c4",
   "metadata": {},
   "outputs": [
    {
     "data": {
      "text/plain": [
       "Administrative               27\n",
       "Administrative_Duration    3336\n",
       "Informational                17\n",
       "Informational_Duration     1259\n",
       "ProductRelated              311\n",
       "ProductRelated_Duration    9552\n",
       "BounceRates                1872\n",
       "ExitRates                  4777\n",
       "PageValues                 2704\n",
       "SpecialDay                    6\n",
       "Month                        10\n",
       "OperatingSystems              8\n",
       "Browser                      13\n",
       "Region                        9\n",
       "TrafficType                  20\n",
       "VisitorType                   3\n",
       "Weekend                       2\n",
       "Revenue                       2\n",
       "dtype: int64"
      ]
     },
     "execution_count": 9,
     "metadata": {},
     "output_type": "execute_result"
    }
   ],
   "source": [
    "# Normalmente variáveis que contenham uma quantia menor que 30 valores únicos, são variáveis categoricas\n",
    "df.nunique()"
   ]
  },
  {
   "cell_type": "code",
   "execution_count": 10,
   "id": "8cb57216",
   "metadata": {},
   "outputs": [],
   "source": [
    "# Loop for para separar variáveis categoricas de numéricas\n",
    "dfbck = df.copy()\n",
    "\n",
    "continuos = []\n",
    "categorical = []\n",
    "\n",
    "for c in df.columns[:-1]:\n",
    "    if df.nunique()[c] >= 30:\n",
    "        continuos.append(c)\n",
    "    else:\n",
    "        categorical.append(c)"
   ]
  },
  {
   "cell_type": "code",
   "execution_count": 11,
   "id": "5a62ea35",
   "metadata": {},
   "outputs": [
    {
     "data": {
      "text/plain": [
       "['Administrative_Duration',\n",
       " 'Informational_Duration',\n",
       " 'ProductRelated',\n",
       " 'ProductRelated_Duration',\n",
       " 'BounceRates',\n",
       " 'ExitRates',\n",
       " 'PageValues']"
      ]
     },
     "execution_count": 11,
     "metadata": {},
     "output_type": "execute_result"
    }
   ],
   "source": [
    "# Variáveis Quantitativas\n",
    "continuos"
   ]
  },
  {
   "cell_type": "code",
   "execution_count": 12,
   "id": "8fb3f5d3",
   "metadata": {},
   "outputs": [
    {
     "data": {
      "text/html": [
       "<div>\n",
       "<style scoped>\n",
       "    .dataframe tbody tr th:only-of-type {\n",
       "        vertical-align: middle;\n",
       "    }\n",
       "\n",
       "    .dataframe tbody tr th {\n",
       "        vertical-align: top;\n",
       "    }\n",
       "\n",
       "    .dataframe thead th {\n",
       "        text-align: right;\n",
       "    }\n",
       "</style>\n",
       "<table border=\"1\" class=\"dataframe\">\n",
       "  <thead>\n",
       "    <tr style=\"text-align: right;\">\n",
       "      <th></th>\n",
       "      <th>Administrative_Duration</th>\n",
       "      <th>Informational_Duration</th>\n",
       "      <th>ProductRelated</th>\n",
       "      <th>ProductRelated_Duration</th>\n",
       "      <th>BounceRates</th>\n",
       "      <th>ExitRates</th>\n",
       "      <th>PageValues</th>\n",
       "    </tr>\n",
       "  </thead>\n",
       "  <tbody>\n",
       "    <tr>\n",
       "      <th>0</th>\n",
       "      <td>0.0</td>\n",
       "      <td>0.0</td>\n",
       "      <td>1.0</td>\n",
       "      <td>0.000000</td>\n",
       "      <td>0.20</td>\n",
       "      <td>0.20</td>\n",
       "      <td>0.0</td>\n",
       "    </tr>\n",
       "    <tr>\n",
       "      <th>1</th>\n",
       "      <td>0.0</td>\n",
       "      <td>0.0</td>\n",
       "      <td>2.0</td>\n",
       "      <td>64.000000</td>\n",
       "      <td>0.00</td>\n",
       "      <td>0.10</td>\n",
       "      <td>0.0</td>\n",
       "    </tr>\n",
       "    <tr>\n",
       "      <th>2</th>\n",
       "      <td>-1.0</td>\n",
       "      <td>-1.0</td>\n",
       "      <td>1.0</td>\n",
       "      <td>-1.000000</td>\n",
       "      <td>0.20</td>\n",
       "      <td>0.20</td>\n",
       "      <td>0.0</td>\n",
       "    </tr>\n",
       "    <tr>\n",
       "      <th>3</th>\n",
       "      <td>0.0</td>\n",
       "      <td>0.0</td>\n",
       "      <td>2.0</td>\n",
       "      <td>2.666667</td>\n",
       "      <td>0.05</td>\n",
       "      <td>0.14</td>\n",
       "      <td>0.0</td>\n",
       "    </tr>\n",
       "    <tr>\n",
       "      <th>4</th>\n",
       "      <td>0.0</td>\n",
       "      <td>0.0</td>\n",
       "      <td>10.0</td>\n",
       "      <td>627.500000</td>\n",
       "      <td>0.02</td>\n",
       "      <td>0.05</td>\n",
       "      <td>0.0</td>\n",
       "    </tr>\n",
       "  </tbody>\n",
       "</table>\n",
       "</div>"
      ],
      "text/plain": [
       "   Administrative_Duration  Informational_Duration  ProductRelated  \\\n",
       "0                      0.0                     0.0             1.0   \n",
       "1                      0.0                     0.0             2.0   \n",
       "2                     -1.0                    -1.0             1.0   \n",
       "3                      0.0                     0.0             2.0   \n",
       "4                      0.0                     0.0            10.0   \n",
       "\n",
       "   ProductRelated_Duration  BounceRates  ExitRates  PageValues  \n",
       "0                 0.000000         0.20       0.20         0.0  \n",
       "1                64.000000         0.00       0.10         0.0  \n",
       "2                -1.000000         0.20       0.20         0.0  \n",
       "3                 2.666667         0.05       0.14         0.0  \n",
       "4               627.500000         0.02       0.05         0.0  "
      ]
     },
     "execution_count": 12,
     "metadata": {},
     "output_type": "execute_result"
    }
   ],
   "source": [
    "# Visualizando as variáveis quantitativas\n",
    "df[continuos].head()"
   ]
  },
  {
   "cell_type": "code",
   "execution_count": 13,
   "id": "17b9d624",
   "metadata": {},
   "outputs": [
    {
     "data": {
      "text/html": [
       "<div>\n",
       "<style scoped>\n",
       "    .dataframe tbody tr th:only-of-type {\n",
       "        vertical-align: middle;\n",
       "    }\n",
       "\n",
       "    .dataframe tbody tr th {\n",
       "        vertical-align: top;\n",
       "    }\n",
       "\n",
       "    .dataframe thead th {\n",
       "        text-align: right;\n",
       "    }\n",
       "</style>\n",
       "<table border=\"1\" class=\"dataframe\">\n",
       "  <thead>\n",
       "    <tr style=\"text-align: right;\">\n",
       "      <th></th>\n",
       "      <th>Administrative</th>\n",
       "      <th>Informational</th>\n",
       "      <th>SpecialDay</th>\n",
       "      <th>Month</th>\n",
       "      <th>OperatingSystems</th>\n",
       "      <th>Browser</th>\n",
       "      <th>Region</th>\n",
       "      <th>TrafficType</th>\n",
       "      <th>VisitorType</th>\n",
       "      <th>Weekend</th>\n",
       "    </tr>\n",
       "  </thead>\n",
       "  <tbody>\n",
       "    <tr>\n",
       "      <th>0</th>\n",
       "      <td>0.0</td>\n",
       "      <td>0.0</td>\n",
       "      <td>0.0</td>\n",
       "      <td>Feb</td>\n",
       "      <td>1</td>\n",
       "      <td>1</td>\n",
       "      <td>1</td>\n",
       "      <td>1</td>\n",
       "      <td>Returning_Visitor</td>\n",
       "      <td>False</td>\n",
       "    </tr>\n",
       "    <tr>\n",
       "      <th>1</th>\n",
       "      <td>0.0</td>\n",
       "      <td>0.0</td>\n",
       "      <td>0.0</td>\n",
       "      <td>Feb</td>\n",
       "      <td>2</td>\n",
       "      <td>2</td>\n",
       "      <td>1</td>\n",
       "      <td>2</td>\n",
       "      <td>Returning_Visitor</td>\n",
       "      <td>False</td>\n",
       "    </tr>\n",
       "    <tr>\n",
       "      <th>2</th>\n",
       "      <td>0.0</td>\n",
       "      <td>0.0</td>\n",
       "      <td>0.0</td>\n",
       "      <td>Feb</td>\n",
       "      <td>4</td>\n",
       "      <td>1</td>\n",
       "      <td>9</td>\n",
       "      <td>3</td>\n",
       "      <td>Returning_Visitor</td>\n",
       "      <td>False</td>\n",
       "    </tr>\n",
       "    <tr>\n",
       "      <th>3</th>\n",
       "      <td>0.0</td>\n",
       "      <td>0.0</td>\n",
       "      <td>0.0</td>\n",
       "      <td>Feb</td>\n",
       "      <td>3</td>\n",
       "      <td>2</td>\n",
       "      <td>2</td>\n",
       "      <td>4</td>\n",
       "      <td>Returning_Visitor</td>\n",
       "      <td>False</td>\n",
       "    </tr>\n",
       "    <tr>\n",
       "      <th>4</th>\n",
       "      <td>0.0</td>\n",
       "      <td>0.0</td>\n",
       "      <td>0.0</td>\n",
       "      <td>Feb</td>\n",
       "      <td>3</td>\n",
       "      <td>3</td>\n",
       "      <td>1</td>\n",
       "      <td>4</td>\n",
       "      <td>Returning_Visitor</td>\n",
       "      <td>True</td>\n",
       "    </tr>\n",
       "  </tbody>\n",
       "</table>\n",
       "</div>"
      ],
      "text/plain": [
       "   Administrative  Informational  SpecialDay Month  OperatingSystems  Browser  \\\n",
       "0             0.0            0.0         0.0   Feb                 1        1   \n",
       "1             0.0            0.0         0.0   Feb                 2        2   \n",
       "2             0.0            0.0         0.0   Feb                 4        1   \n",
       "3             0.0            0.0         0.0   Feb                 3        2   \n",
       "4             0.0            0.0         0.0   Feb                 3        3   \n",
       "\n",
       "   Region  TrafficType        VisitorType  Weekend  \n",
       "0       1            1  Returning_Visitor    False  \n",
       "1       1            2  Returning_Visitor    False  \n",
       "2       9            3  Returning_Visitor    False  \n",
       "3       2            4  Returning_Visitor    False  \n",
       "4       1            4  Returning_Visitor     True  "
      ]
     },
     "execution_count": 13,
     "metadata": {},
     "output_type": "execute_result"
    }
   ],
   "source": [
    "# Visualizando as variáveis qualitativas\n",
    "df[categorical].head()"
   ]
  },
  {
   "cell_type": "markdown",
   "id": "15a2055d",
   "metadata": {},
   "source": [
    "# VISUALIZAÇÃO DOS DADOS"
   ]
  },
  {
   "cell_type": "code",
   "execution_count": 14,
   "id": "3535cb08",
   "metadata": {},
   "outputs": [
    {
     "data": {
      "image/png": "[encoded data removed]",
      "text/plain": [
       "<Figure size 864x576 with 7 Axes>"
      ]
     },
     "metadata": {
      "needs_background": "light"
     },
     "output_type": "display_data"
    }
   ],
   "source": [
    "# Plot.\n",
    "fig = plt.figure(figsize = (12,8))\n",
    "\n",
    "for i, col in enumerate(continuos):\n",
    "    plt.subplot(3,3, i + 1)\n",
    "    df.boxplot(col)\n",
    "    plt.tight_layout()"
   ]
  },
  {
   "cell_type": "code",
   "execution_count": 15,
   "id": "e03ecbe8",
   "metadata": {},
   "outputs": [],
   "source": [
    "# Transformação de log para uma melhor visualização.\n",
    "df[continuos] = np.log1p(1 + df[continuos])"
   ]
  },
  {
   "cell_type": "code",
   "execution_count": 16,
   "id": "1beca114",
   "metadata": {},
   "outputs": [
    {
     "data": {
      "image/png": "[encoded data removed]",
      "text/plain": [
       "<Figure size 864x576 with 7 Axes>"
      ]
     },
     "metadata": {
      "needs_background": "light"
     },
     "output_type": "display_data"
    }
   ],
   "source": [
    "# Plot.\n",
    "fig = plt.figure(figsize = (12,8))\n",
    "\n",
    "for i, col in enumerate(continuos):\n",
    "    \n",
    "    plt.subplot(3,3,i + 1)\n",
    "    df.boxplot(col)\n",
    "    plt.tight_layout()"
   ]
  },
  {
   "cell_type": "code",
   "execution_count": 17,
   "id": "f46c5097",
   "metadata": {},
   "outputs": [
    {
     "data": {
      "image/png": "[encoded data removed]",
      "text/plain": [
       "<Figure size 720x720 with 2 Axes>"
      ]
     },
     "metadata": {
      "needs_background": "light"
     },
     "output_type": "display_data"
    }
   ],
   "source": [
    "# Plot de correlação entre as variáveis.\n",
    "fig = plt.figure(figsize = (10,10))\n",
    "\n",
    "sns.heatmap(df[continuos].corr(), vmax = 1., square = True, annot = True);"
   ]
  },
  {
   "cell_type": "code",
   "execution_count": 18,
   "id": "6c475f3f",
   "metadata": {},
   "outputs": [
    {
     "name": "stderr",
     "output_type": "stream",
     "text": [
      "/home/igor/anaconda3/lib/python3.9/site-packages/seaborn/_decorators.py:36: FutureWarning: Pass the following variable as a keyword arg: x. From version 0.12, the only valid positional argument will be `data`, and passing other arguments without an explicit keyword will result in an error or misinterpretation.\n",
      "  warnings.warn(\n"
     ]
    },
    {
     "data": {
      "image/png": "[encoded data removed]",
      "text/plain": [
       "<Figure size 432x288 with 1 Axes>"
      ]
     },
     "metadata": {
      "needs_background": "light"
     },
     "output_type": "display_data"
    }
   ],
   "source": [
    "# Plot exibindo a quantia de conversões.\n",
    "plt.subplot(1,2,2);\n",
    "plt.title('Vendas concretizadas');\n",
    "sns.countplot(df['Revenue']);"
   ]
  },
  {
   "cell_type": "code",
   "execution_count": 19,
   "id": "7343f6e8",
   "metadata": {},
   "outputs": [
    {
     "name": "stderr",
     "output_type": "stream",
     "text": [
      "/home/igor/anaconda3/lib/python3.9/site-packages/seaborn/_decorators.py:36: FutureWarning: Pass the following variable as a keyword arg: x. From version 0.12, the only valid positional argument will be `data`, and passing other arguments without an explicit keyword will result in an error or misinterpretation.\n",
      "  warnings.warn(\n"
     ]
    },
    {
     "data": {
      "image/png": "[encoded data removed]",
      "text/plain": [
       "<Figure size 432x288 with 1 Axes>"
      ]
     },
     "metadata": {
      "needs_background": "light"
     },
     "output_type": "display_data"
    }
   ],
   "source": [
    "# Plot exibindo a classe de visitantes.\n",
    "plt.title('Tipos de visitantes');\n",
    "sns.countplot(df['VisitorType']);"
   ]
  },
  {
   "cell_type": "code",
   "execution_count": 20,
   "id": "d5014f9c",
   "metadata": {},
   "outputs": [
    {
     "data": {
      "image/png": "[encoded data removed]",
      "text/plain": [
       "<Figure size 1080x360 with 1 Axes>"
      ]
     },
     "metadata": {
      "needs_background": "light"
     },
     "output_type": "display_data"
    }
   ],
   "source": [
    "# Conversões baseadas na classe do visitante.\n",
    "pd.crosstab(df['VisitorType'], df['Revenue']).plot(kind = 'bar',\n",
    "                   stacked = True,\n",
    "                   figsize = (15,5),\n",
    "                   color = ['blue','red']);"
   ]
  },
  {
   "cell_type": "code",
   "execution_count": 21,
   "id": "dc2ebe47",
   "metadata": {},
   "outputs": [
    {
     "name": "stderr",
     "output_type": "stream",
     "text": [
      "/home/igor/anaconda3/lib/python3.9/site-packages/seaborn/_decorators.py:36: FutureWarning: Pass the following variable as a keyword arg: x. From version 0.12, the only valid positional argument will be `data`, and passing other arguments without an explicit keyword will result in an error or misinterpretation.\n",
      "  warnings.warn(\n"
     ]
    },
    {
     "data": {
      "image/png": "[encoded data removed]",
      "text/plain": [
       "<Figure size 432x288 with 1 Axes>"
      ]
     },
     "metadata": {
      "needs_background": "light"
     },
     "output_type": "display_data"
    }
   ],
   "source": [
    "# Plot exibindo se o dia da compra era ou não fim de semana.\n",
    "plt.subplot(1,2,2);\n",
    "plt.title('Era fim de semana');\n",
    "sns.countplot(df['Weekend']);"
   ]
  },
  {
   "cell_type": "code",
   "execution_count": 22,
   "id": "36beb811",
   "metadata": {},
   "outputs": [
    {
     "data": {
      "image/png": "[encoded data removed]",
      "text/plain": [
       "<Figure size 1080x360 with 1 Axes>"
      ]
     },
     "metadata": {
      "needs_background": "light"
     },
     "output_type": "display_data"
    }
   ],
   "source": [
    "# Conversões baseadas no fato do dia ser ou não final de semana.\n",
    "pd.crosstab(df['Weekend'], df['Revenue']).plot(kind = 'bar',\n",
    "                  figsize = (15,5),\n",
    "                  stacked = True,                            \n",
    "                  color = ['blue','red']);"
   ]
  },
  {
   "cell_type": "code",
   "execution_count": 23,
   "id": "c879e7eb",
   "metadata": {},
   "outputs": [
    {
     "name": "stderr",
     "output_type": "stream",
     "text": [
      "/home/igor/anaconda3/lib/python3.9/site-packages/seaborn/_decorators.py:36: FutureWarning: Pass the following variable as a keyword arg: x. From version 0.12, the only valid positional argument will be `data`, and passing other arguments without an explicit keyword will result in an error or misinterpretation.\n",
      "  warnings.warn(\n"
     ]
    },
    {
     "data": {
      "image/png": "[encoded data removed]",
      "text/plain": [
       "<Figure size 432x288 with 1 Axes>"
      ]
     },
     "metadata": {
      "needs_background": "light"
     },
     "output_type": "display_data"
    }
   ],
   "source": [
    "# Plot exibindo os tipos de SOs (Sistemas operacionais).\n",
    "plt.title('Tipos de sistemas operacionais');\n",
    "sns.countplot(df['OperatingSystems']);"
   ]
  },
  {
   "cell_type": "code",
   "execution_count": 24,
   "id": "d79ee7ff",
   "metadata": {},
   "outputs": [
    {
     "data": {
      "image/png": "[encoded data removed]",
      "text/plain": [
       "<Figure size 1080x360 with 1 Axes>"
      ]
     },
     "metadata": {
      "needs_background": "light"
     },
     "output_type": "display_data"
    }
   ],
   "source": [
    "# Conversões baseadas no tipo de sistema operacional utilizado pelo usuário.\n",
    "pd.crosstab(df['OperatingSystems'], df['Revenue']).plot(kind = 'bar',\n",
    "                 stacked = True,\n",
    "                 figsize = (15,5),\n",
    "                 color = ['blue','red']);"
   ]
  },
  {
   "cell_type": "code",
   "execution_count": 25,
   "id": "277826d5",
   "metadata": {},
   "outputs": [
    {
     "name": "stderr",
     "output_type": "stream",
     "text": [
      "/home/igor/anaconda3/lib/python3.9/site-packages/seaborn/_decorators.py:36: FutureWarning: Pass the following variable as a keyword arg: x. From version 0.12, the only valid positional argument will be `data`, and passing other arguments without an explicit keyword will result in an error or misinterpretation.\n",
      "  warnings.warn(\n"
     ]
    },
    {
     "data": {
      "image/png": "[encoded data removed]",
      "text/plain": [
       "<Figure size 432x288 with 1 Axes>"
      ]
     },
     "metadata": {
      "needs_background": "light"
     },
     "output_type": "display_data"
    }
   ],
   "source": [
    "# Plot exibindo se havia proximidade de uma data especial.\n",
    "sns.countplot(df['SpecialDay']);"
   ]
  },
  {
   "cell_type": "code",
   "execution_count": 26,
   "id": "a75a9b39",
   "metadata": {},
   "outputs": [
    {
     "data": {
      "image/png": "[encoded data removed]",
      "text/plain": [
       "<Figure size 1080x360 with 1 Axes>"
      ]
     },
     "metadata": {
      "needs_background": "light"
     },
     "output_type": "display_data"
    }
   ],
   "source": [
    "# Conversões baseadas em datas especiais.\n",
    "pd.crosstab(df['SpecialDay'], df['Revenue']).plot(kind = 'bar',\n",
    "                                                 stacked = True,\n",
    "                                                 figsize = (15,5),\n",
    "                                                 color = ['blue','red']);"
   ]
  },
  {
   "cell_type": "code",
   "execution_count": 27,
   "id": "87b4699a",
   "metadata": {},
   "outputs": [
    {
     "name": "stderr",
     "output_type": "stream",
     "text": [
      "/home/igor/anaconda3/lib/python3.9/site-packages/seaborn/_decorators.py:36: FutureWarning: Pass the following variable as a keyword arg: x. From version 0.12, the only valid positional argument will be `data`, and passing other arguments without an explicit keyword will result in an error or misinterpretation.\n",
      "  warnings.warn(\n"
     ]
    },
    {
     "data": {
      "image/png": "[encoded data removed]",
      "text/plain": [
       "<Figure size 432x288 with 1 Axes>"
      ]
     },
     "metadata": {
      "needs_background": "light"
     },
     "output_type": "display_data"
    }
   ],
   "source": [
    "# Plot exibindo o tipo de browser utilizado pelo usuário.\n",
    "plt.title('Navegador utilizado');\n",
    "sns.countplot(df['Browser']);"
   ]
  },
  {
   "cell_type": "code",
   "execution_count": 28,
   "id": "7e4cae8a",
   "metadata": {},
   "outputs": [
    {
     "data": {
      "image/png": "[encoded data removed]",
      "text/plain": [
       "<Figure size 1080x360 with 1 Axes>"
      ]
     },
     "metadata": {
      "needs_background": "light"
     },
     "output_type": "display_data"
    }
   ],
   "source": [
    "# Conversões baseadas no browser do visitante.\n",
    "pd.crosstab(df['Browser'], df['Revenue']).plot(kind = 'bar',\n",
    "                                              stacked = True,\n",
    "                                              figsize = (15,5),\n",
    "                                              color = ['blue','red']);"
   ]
  },
  {
   "cell_type": "markdown",
   "id": "ff9dca25",
   "metadata": {},
   "source": [
    "# PRÉ-PROCESSAMENTO DOS DADOS"
   ]
  },
  {
   "cell_type": "code",
   "execution_count": 29,
   "id": "bcf7bb2d",
   "metadata": {},
   "outputs": [
    {
     "data": {
      "text/html": [
       "<div>\n",
       "<style scoped>\n",
       "    .dataframe tbody tr th:only-of-type {\n",
       "        vertical-align: middle;\n",
       "    }\n",
       "\n",
       "    .dataframe tbody tr th {\n",
       "        vertical-align: top;\n",
       "    }\n",
       "\n",
       "    .dataframe thead th {\n",
       "        text-align: right;\n",
       "    }\n",
       "</style>\n",
       "<table border=\"1\" class=\"dataframe\">\n",
       "  <thead>\n",
       "    <tr style=\"text-align: right;\">\n",
       "      <th></th>\n",
       "      <th>Administrative</th>\n",
       "      <th>Administrative_Duration</th>\n",
       "      <th>Informational</th>\n",
       "      <th>Informational_Duration</th>\n",
       "      <th>ProductRelated</th>\n",
       "      <th>ProductRelated_Duration</th>\n",
       "      <th>BounceRates</th>\n",
       "      <th>ExitRates</th>\n",
       "      <th>PageValues</th>\n",
       "      <th>SpecialDay</th>\n",
       "      <th>Month</th>\n",
       "      <th>OperatingSystems</th>\n",
       "      <th>Browser</th>\n",
       "      <th>Region</th>\n",
       "      <th>TrafficType</th>\n",
       "      <th>VisitorType</th>\n",
       "      <th>Weekend</th>\n",
       "      <th>Revenue</th>\n",
       "    </tr>\n",
       "  </thead>\n",
       "  <tbody>\n",
       "    <tr>\n",
       "      <th>0</th>\n",
       "      <td>0.0</td>\n",
       "      <td>0.693147</td>\n",
       "      <td>0.0</td>\n",
       "      <td>0.693147</td>\n",
       "      <td>1.098612</td>\n",
       "      <td>0.693147</td>\n",
       "      <td>0.788457</td>\n",
       "      <td>0.788457</td>\n",
       "      <td>0.693147</td>\n",
       "      <td>0.0</td>\n",
       "      <td>Feb</td>\n",
       "      <td>1</td>\n",
       "      <td>1</td>\n",
       "      <td>1</td>\n",
       "      <td>1</td>\n",
       "      <td>Returning_Visitor</td>\n",
       "      <td>False</td>\n",
       "      <td>False</td>\n",
       "    </tr>\n",
       "    <tr>\n",
       "      <th>1</th>\n",
       "      <td>0.0</td>\n",
       "      <td>0.693147</td>\n",
       "      <td>0.0</td>\n",
       "      <td>0.693147</td>\n",
       "      <td>1.386294</td>\n",
       "      <td>4.189655</td>\n",
       "      <td>0.693147</td>\n",
       "      <td>0.741937</td>\n",
       "      <td>0.693147</td>\n",
       "      <td>0.0</td>\n",
       "      <td>Feb</td>\n",
       "      <td>2</td>\n",
       "      <td>2</td>\n",
       "      <td>1</td>\n",
       "      <td>2</td>\n",
       "      <td>Returning_Visitor</td>\n",
       "      <td>False</td>\n",
       "      <td>False</td>\n",
       "    </tr>\n",
       "    <tr>\n",
       "      <th>2</th>\n",
       "      <td>0.0</td>\n",
       "      <td>0.000000</td>\n",
       "      <td>0.0</td>\n",
       "      <td>0.000000</td>\n",
       "      <td>1.098612</td>\n",
       "      <td>0.000000</td>\n",
       "      <td>0.788457</td>\n",
       "      <td>0.788457</td>\n",
       "      <td>0.693147</td>\n",
       "      <td>0.0</td>\n",
       "      <td>Feb</td>\n",
       "      <td>4</td>\n",
       "      <td>1</td>\n",
       "      <td>9</td>\n",
       "      <td>3</td>\n",
       "      <td>Returning_Visitor</td>\n",
       "      <td>False</td>\n",
       "      <td>False</td>\n",
       "    </tr>\n",
       "    <tr>\n",
       "      <th>3</th>\n",
       "      <td>0.0</td>\n",
       "      <td>0.693147</td>\n",
       "      <td>0.0</td>\n",
       "      <td>0.693147</td>\n",
       "      <td>1.386294</td>\n",
       "      <td>1.540445</td>\n",
       "      <td>0.717840</td>\n",
       "      <td>0.760806</td>\n",
       "      <td>0.693147</td>\n",
       "      <td>0.0</td>\n",
       "      <td>Feb</td>\n",
       "      <td>3</td>\n",
       "      <td>2</td>\n",
       "      <td>2</td>\n",
       "      <td>4</td>\n",
       "      <td>Returning_Visitor</td>\n",
       "      <td>False</td>\n",
       "      <td>False</td>\n",
       "    </tr>\n",
       "    <tr>\n",
       "      <th>4</th>\n",
       "      <td>0.0</td>\n",
       "      <td>0.693147</td>\n",
       "      <td>0.0</td>\n",
       "      <td>0.693147</td>\n",
       "      <td>2.484907</td>\n",
       "      <td>6.444926</td>\n",
       "      <td>0.703098</td>\n",
       "      <td>0.717840</td>\n",
       "      <td>0.693147</td>\n",
       "      <td>0.0</td>\n",
       "      <td>Feb</td>\n",
       "      <td>3</td>\n",
       "      <td>3</td>\n",
       "      <td>1</td>\n",
       "      <td>4</td>\n",
       "      <td>Returning_Visitor</td>\n",
       "      <td>True</td>\n",
       "      <td>False</td>\n",
       "    </tr>\n",
       "  </tbody>\n",
       "</table>\n",
       "</div>"
      ],
      "text/plain": [
       "   Administrative  Administrative_Duration  Informational  \\\n",
       "0             0.0                 0.693147            0.0   \n",
       "1             0.0                 0.693147            0.0   \n",
       "2             0.0                 0.000000            0.0   \n",
       "3             0.0                 0.693147            0.0   \n",
       "4             0.0                 0.693147            0.0   \n",
       "\n",
       "   Informational_Duration  ProductRelated  ProductRelated_Duration  \\\n",
       "0                0.693147        1.098612                 0.693147   \n",
       "1                0.693147        1.386294                 4.189655   \n",
       "2                0.000000        1.098612                 0.000000   \n",
       "3                0.693147        1.386294                 1.540445   \n",
       "4                0.693147        2.484907                 6.444926   \n",
       "\n",
       "   BounceRates  ExitRates  PageValues  SpecialDay Month  OperatingSystems  \\\n",
       "0     0.788457   0.788457    0.693147         0.0   Feb                 1   \n",
       "1     0.693147   0.741937    0.693147         0.0   Feb                 2   \n",
       "2     0.788457   0.788457    0.693147         0.0   Feb                 4   \n",
       "3     0.717840   0.760806    0.693147         0.0   Feb                 3   \n",
       "4     0.703098   0.717840    0.693147         0.0   Feb                 3   \n",
       "\n",
       "   Browser  Region  TrafficType        VisitorType  Weekend  Revenue  \n",
       "0        1       1            1  Returning_Visitor    False    False  \n",
       "1        2       1            2  Returning_Visitor    False    False  \n",
       "2        1       9            3  Returning_Visitor    False    False  \n",
       "3        2       2            4  Returning_Visitor    False    False  \n",
       "4        3       1            4  Returning_Visitor     True    False  "
      ]
     },
     "execution_count": 29,
     "metadata": {},
     "output_type": "execute_result"
    }
   ],
   "source": [
    "df.head()"
   ]
  },
  {
   "cell_type": "code",
   "execution_count": 30,
   "id": "2e90d2d5",
   "metadata": {},
   "outputs": [],
   "source": [
    "# Instanciando o LabelEnoder.\n",
    "encoder = LabelEncoder()"
   ]
  },
  {
   "cell_type": "code",
   "execution_count": 31,
   "id": "46c2ca6f",
   "metadata": {},
   "outputs": [],
   "source": [
    "# Transformando variáveis categoricas em suas respectivas representações numéricas.\n",
    "df['Month'] = encoder.fit_transform(df['Month'])\n",
    "df['VisitorType'] = encoder.fit_transform(df['VisitorType'])"
   ]
  },
  {
   "cell_type": "code",
   "execution_count": 32,
   "id": "7f4e4a88",
   "metadata": {},
   "outputs": [],
   "source": [
    "# Removendo possíveis valores faltantes.\n",
    "df.dropna(inplace = True)"
   ]
  },
  {
   "cell_type": "code",
   "execution_count": 33,
   "id": "5e2dba03",
   "metadata": {},
   "outputs": [
    {
     "data": {
      "text/html": [
       "<div>\n",
       "<style scoped>\n",
       "    .dataframe tbody tr th:only-of-type {\n",
       "        vertical-align: middle;\n",
       "    }\n",
       "\n",
       "    .dataframe tbody tr th {\n",
       "        vertical-align: top;\n",
       "    }\n",
       "\n",
       "    .dataframe thead th {\n",
       "        text-align: right;\n",
       "    }\n",
       "</style>\n",
       "<table border=\"1\" class=\"dataframe\">\n",
       "  <thead>\n",
       "    <tr style=\"text-align: right;\">\n",
       "      <th></th>\n",
       "      <th>Administrative</th>\n",
       "      <th>Administrative_Duration</th>\n",
       "      <th>Informational</th>\n",
       "      <th>Informational_Duration</th>\n",
       "      <th>ProductRelated</th>\n",
       "      <th>ProductRelated_Duration</th>\n",
       "      <th>BounceRates</th>\n",
       "      <th>ExitRates</th>\n",
       "      <th>PageValues</th>\n",
       "      <th>SpecialDay</th>\n",
       "      <th>Month</th>\n",
       "      <th>OperatingSystems</th>\n",
       "      <th>Browser</th>\n",
       "      <th>Region</th>\n",
       "      <th>TrafficType</th>\n",
       "      <th>VisitorType</th>\n",
       "      <th>Weekend</th>\n",
       "      <th>Revenue</th>\n",
       "    </tr>\n",
       "  </thead>\n",
       "  <tbody>\n",
       "    <tr>\n",
       "      <th>0</th>\n",
       "      <td>0.0</td>\n",
       "      <td>0.693147</td>\n",
       "      <td>0.0</td>\n",
       "      <td>0.693147</td>\n",
       "      <td>1.098612</td>\n",
       "      <td>0.693147</td>\n",
       "      <td>0.788457</td>\n",
       "      <td>0.788457</td>\n",
       "      <td>0.693147</td>\n",
       "      <td>0.0</td>\n",
       "      <td>2</td>\n",
       "      <td>1</td>\n",
       "      <td>1</td>\n",
       "      <td>1</td>\n",
       "      <td>1</td>\n",
       "      <td>2</td>\n",
       "      <td>False</td>\n",
       "      <td>False</td>\n",
       "    </tr>\n",
       "    <tr>\n",
       "      <th>1</th>\n",
       "      <td>0.0</td>\n",
       "      <td>0.693147</td>\n",
       "      <td>0.0</td>\n",
       "      <td>0.693147</td>\n",
       "      <td>1.386294</td>\n",
       "      <td>4.189655</td>\n",
       "      <td>0.693147</td>\n",
       "      <td>0.741937</td>\n",
       "      <td>0.693147</td>\n",
       "      <td>0.0</td>\n",
       "      <td>2</td>\n",
       "      <td>2</td>\n",
       "      <td>2</td>\n",
       "      <td>1</td>\n",
       "      <td>2</td>\n",
       "      <td>2</td>\n",
       "      <td>False</td>\n",
       "      <td>False</td>\n",
       "    </tr>\n",
       "    <tr>\n",
       "      <th>2</th>\n",
       "      <td>0.0</td>\n",
       "      <td>0.000000</td>\n",
       "      <td>0.0</td>\n",
       "      <td>0.000000</td>\n",
       "      <td>1.098612</td>\n",
       "      <td>0.000000</td>\n",
       "      <td>0.788457</td>\n",
       "      <td>0.788457</td>\n",
       "      <td>0.693147</td>\n",
       "      <td>0.0</td>\n",
       "      <td>2</td>\n",
       "      <td>4</td>\n",
       "      <td>1</td>\n",
       "      <td>9</td>\n",
       "      <td>3</td>\n",
       "      <td>2</td>\n",
       "      <td>False</td>\n",
       "      <td>False</td>\n",
       "    </tr>\n",
       "    <tr>\n",
       "      <th>3</th>\n",
       "      <td>0.0</td>\n",
       "      <td>0.693147</td>\n",
       "      <td>0.0</td>\n",
       "      <td>0.693147</td>\n",
       "      <td>1.386294</td>\n",
       "      <td>1.540445</td>\n",
       "      <td>0.717840</td>\n",
       "      <td>0.760806</td>\n",
       "      <td>0.693147</td>\n",
       "      <td>0.0</td>\n",
       "      <td>2</td>\n",
       "      <td>3</td>\n",
       "      <td>2</td>\n",
       "      <td>2</td>\n",
       "      <td>4</td>\n",
       "      <td>2</td>\n",
       "      <td>False</td>\n",
       "      <td>False</td>\n",
       "    </tr>\n",
       "    <tr>\n",
       "      <th>4</th>\n",
       "      <td>0.0</td>\n",
       "      <td>0.693147</td>\n",
       "      <td>0.0</td>\n",
       "      <td>0.693147</td>\n",
       "      <td>2.484907</td>\n",
       "      <td>6.444926</td>\n",
       "      <td>0.703098</td>\n",
       "      <td>0.717840</td>\n",
       "      <td>0.693147</td>\n",
       "      <td>0.0</td>\n",
       "      <td>2</td>\n",
       "      <td>3</td>\n",
       "      <td>3</td>\n",
       "      <td>1</td>\n",
       "      <td>4</td>\n",
       "      <td>2</td>\n",
       "      <td>True</td>\n",
       "      <td>False</td>\n",
       "    </tr>\n",
       "  </tbody>\n",
       "</table>\n",
       "</div>"
      ],
      "text/plain": [
       "   Administrative  Administrative_Duration  Informational  \\\n",
       "0             0.0                 0.693147            0.0   \n",
       "1             0.0                 0.693147            0.0   \n",
       "2             0.0                 0.000000            0.0   \n",
       "3             0.0                 0.693147            0.0   \n",
       "4             0.0                 0.693147            0.0   \n",
       "\n",
       "   Informational_Duration  ProductRelated  ProductRelated_Duration  \\\n",
       "0                0.693147        1.098612                 0.693147   \n",
       "1                0.693147        1.386294                 4.189655   \n",
       "2                0.000000        1.098612                 0.000000   \n",
       "3                0.693147        1.386294                 1.540445   \n",
       "4                0.693147        2.484907                 6.444926   \n",
       "\n",
       "   BounceRates  ExitRates  PageValues  SpecialDay  Month  OperatingSystems  \\\n",
       "0     0.788457   0.788457    0.693147         0.0      2                 1   \n",
       "1     0.693147   0.741937    0.693147         0.0      2                 2   \n",
       "2     0.788457   0.788457    0.693147         0.0      2                 4   \n",
       "3     0.717840   0.760806    0.693147         0.0      2                 3   \n",
       "4     0.703098   0.717840    0.693147         0.0      2                 3   \n",
       "\n",
       "   Browser  Region  TrafficType  VisitorType  Weekend  Revenue  \n",
       "0        1       1            1            2    False    False  \n",
       "1        2       1            2            2    False    False  \n",
       "2        1       9            3            2    False    False  \n",
       "3        2       2            4            2    False    False  \n",
       "4        3       1            4            2     True    False  "
      ]
     },
     "execution_count": 33,
     "metadata": {},
     "output_type": "execute_result"
    }
   ],
   "source": [
    "# Visualizando os dados.\n",
    "df.head()"
   ]
  },
  {
   "cell_type": "code",
   "execution_count": 34,
   "id": "f801bf76",
   "metadata": {},
   "outputs": [
    {
     "data": {
      "text/plain": [
       "False    10408\n",
       "True      1908\n",
       "Name: Revenue, dtype: int64"
      ]
     },
     "execution_count": 34,
     "metadata": {},
     "output_type": "execute_result"
    }
   ],
   "source": [
    "# Checando o balanceamento da variável target.\n",
    "df['Revenue'].value_counts()"
   ]
  },
  {
   "cell_type": "code",
   "execution_count": 44,
   "id": "bedbd7f2",
   "metadata": {},
   "outputs": [
    {
     "name": "stderr",
     "output_type": "stream",
     "text": [
      "/home/igor/anaconda3/lib/python3.9/site-packages/seaborn/_decorators.py:36: FutureWarning: Pass the following variable as a keyword arg: x. From version 0.12, the only valid positional argument will be `data`, and passing other arguments without an explicit keyword will result in an error or misinterpretation.\n",
      "  warnings.warn(\n"
     ]
    },
    {
     "data": {
      "image/png": "[encoded data removed]",
      "text/plain": [
       "<Figure size 432x288 with 1 Axes>"
      ]
     },
     "metadata": {
      "needs_background": "light"
     },
     "output_type": "display_data"
    }
   ],
   "source": [
    "# Plot exibindo o balanceamento da variável target.\n",
    "sns.countplot(df['Revenue'], palette = 'OrRd');\n",
    "plt.box(False)\n",
    "plt.xlabel('Revenue Por Sessão Não (0) / Sim (1)', fontsize = 11)\n",
    "plt.ylabel('Total Sessões', fontsize = 11)\n",
    "plt.title('Contagem de Classe\\n');"
   ]
  },
  {
   "cell_type": "code",
   "execution_count": 36,
   "id": "3a8d810b",
   "metadata": {},
   "outputs": [],
   "source": [
    "# Importanto biblioteca.\n",
    "import imblearn"
   ]
  },
  {
   "cell_type": "code",
   "execution_count": 37,
   "id": "08173c4f",
   "metadata": {},
   "outputs": [],
   "source": [
    "from imblearn.over_sampling import SMOTE\n",
    "\n",
    "seed = 100\n",
    "\n",
    "# Separando os dados em X e y.\n",
    "X = df.iloc[:, 0:17]\n",
    "y = df.iloc[:,17]\n",
    "\n",
    "# Instaciando o algoritmo.\n",
    "smote_bal = SMOTE(random_state = seed)\n",
    "\n",
    "# Balanceando as classes.\n",
    "X_bal, y_bal = smote_bal.fit_resample(X, y)"
   ]
  },
  {
   "cell_type": "code",
   "execution_count": 45,
   "id": "6e29e82d",
   "metadata": {},
   "outputs": [
    {
     "name": "stderr",
     "output_type": "stream",
     "text": [
      "/home/igor/anaconda3/lib/python3.9/site-packages/seaborn/_decorators.py:36: FutureWarning: Pass the following variable as a keyword arg: x. From version 0.12, the only valid positional argument will be `data`, and passing other arguments without an explicit keyword will result in an error or misinterpretation.\n",
      "  warnings.warn(\n"
     ]
    },
    {
     "data": {
      "image/png": "[encoded data removed]",
      "text/plain": [
       "<Figure size 432x288 with 1 Axes>"
      ]
     },
     "metadata": {
      "needs_background": "light"
     },
     "output_type": "display_data"
    }
   ],
   "source": [
    "# Plot exibindo o balanceamento da variável target.\n",
    "sns.countplot(y_bal, palette = 'OrRd');\n",
    "plt.box(False)\n",
    "plt.xlabel('Revenue Por Sessão Não (0) / Sim (1)',fontsize = 11)\n",
    "plt.ylabel('Total de Sessões',fontsize = 11)\n",
    "plt.title('Contagem de Classes\\n');"
   ]
  },
  {
   "cell_type": "code",
   "execution_count": 38,
   "id": "79c4c9a0",
   "metadata": {},
   "outputs": [
    {
     "data": {
      "text/plain": [
       "(20816, 17)"
      ]
     },
     "execution_count": 38,
     "metadata": {},
     "output_type": "execute_result"
    }
   ],
   "source": [
    "# Checando o shape.\n",
    "X_bal.shape"
   ]
  },
  {
   "cell_type": "code",
   "execution_count": 39,
   "id": "5e0ed756",
   "metadata": {},
   "outputs": [
    {
     "data": {
      "text/plain": [
       "(20816,)"
      ]
     },
     "execution_count": 39,
     "metadata": {},
     "output_type": "execute_result"
    }
   ],
   "source": [
    "# Checando o shape.\n",
    "y_bal.shape"
   ]
  },
  {
   "cell_type": "code",
   "execution_count": 40,
   "id": "71849c20",
   "metadata": {},
   "outputs": [],
   "source": [
    "# Atribuindo a classe balanceada ao atributo X.\n",
    "X = X_bal"
   ]
  },
  {
   "cell_type": "code",
   "execution_count": 41,
   "id": "b7b62e4f",
   "metadata": {},
   "outputs": [],
   "source": [
    "# Atribuindo a classe balanceada ao atributo y.\n",
    "y = y_bal"
   ]
  },
  {
   "cell_type": "markdown",
   "id": "5423acfb",
   "metadata": {},
   "source": [
    "# CRIANDO MODELOS E REALIZAÇÃO DE PREVISÕES"
   ]
  },
  {
   "cell_type": "code",
   "execution_count": 42,
   "id": "b49bc32c",
   "metadata": {},
   "outputs": [],
   "source": [
    "# Criando conjuntos de treino e teste.\n",
    "X_train, X_test, y_train, y_test = train_test_split(X, y, test_size = 0.3, random_state = 42)"
   ]
  },
  {
   "cell_type": "code",
   "execution_count": 46,
   "id": "f78aea23",
   "metadata": {},
   "outputs": [],
   "source": [
    "# Criando o modelo versão 1.\n",
    "modelo_v1 = svm.SVC(kernel = 'linear')"
   ]
  },
  {
   "cell_type": "code",
   "execution_count": 47,
   "id": "a71f9d62",
   "metadata": {},
   "outputs": [
    {
     "data": {
      "text/html": [
       "<style>#sk-container-id-1 {color: black;background-color: white;}#sk-container-id-1 pre{padding: 0;}#sk-container-id-1 div.sk-toggleable {background-color: white;}#sk-container-id-1 label.sk-toggleable__label {cursor: pointer;display: block;width: 100%;margin-bottom: 0;padding: 0.3em;box-sizing: border-box;text-align: center;}#sk-container-id-1 label.sk-toggleable__label-arrow:before {content: \"▸\";float: left;margin-right: 0.25em;color: #696969;}#sk-container-id-1 label.sk-toggleable__label-arrow:hover:before {color: black;}#sk-container-id-1 div.sk-estimator:hover label.sk-toggleable__label-arrow:before {color: black;}#sk-container-id-1 div.sk-toggleable__content {max-height: 0;max-width: 0;overflow: hidden;text-align: left;background-color: #f0f8ff;}#sk-container-id-1 div.sk-toggleable__content pre {margin: 0.2em;color: black;border-radius: 0.25em;background-color: #f0f8ff;}#sk-container-id-1 input.sk-toggleable__control:checked~div.sk-toggleable__content {max-height: 200px;max-width: 100%;overflow: auto;}#sk-container-id-1 input.sk-toggleable__control:checked~label.sk-toggleable__label-arrow:before {content: \"▾\";}#sk-container-id-1 div.sk-estimator input.sk-toggleable__control:checked~label.sk-toggleable__label {background-color: #d4ebff;}#sk-container-id-1 div.sk-label input.sk-toggleable__control:checked~label.sk-toggleable__label {background-color: #d4ebff;}#sk-container-id-1 input.sk-hidden--visually {border: 0;clip: rect(1px 1px 1px 1px);clip: rect(1px, 1px, 1px, 1px);height: 1px;margin: -1px;overflow: hidden;padding: 0;position: absolute;width: 1px;}#sk-container-id-1 div.sk-estimator {font-family: monospace;background-color: #f0f8ff;border: 1px dotted black;border-radius: 0.25em;box-sizing: border-box;margin-bottom: 0.5em;}#sk-container-id-1 div.sk-estimator:hover {background-color: #d4ebff;}#sk-container-id-1 div.sk-parallel-item::after {content: \"\";width: 100%;border-bottom: 1px solid gray;flex-grow: 1;}#sk-container-id-1 div.sk-label:hover label.sk-toggleable__label {background-color: #d4ebff;}#sk-container-id-1 div.sk-serial::before {content: \"\";position: absolute;border-left: 1px solid gray;box-sizing: border-box;top: 0;bottom: 0;left: 50%;z-index: 0;}#sk-container-id-1 div.sk-serial {display: flex;flex-direction: column;align-items: center;background-color: white;padding-right: 0.2em;padding-left: 0.2em;position: relative;}#sk-container-id-1 div.sk-item {position: relative;z-index: 1;}#sk-container-id-1 div.sk-parallel {display: flex;align-items: stretch;justify-content: center;background-color: white;position: relative;}#sk-container-id-1 div.sk-item::before, #sk-container-id-1 div.sk-parallel-item::before {content: \"\";position: absolute;border-left: 1px solid gray;box-sizing: border-box;top: 0;bottom: 0;left: 50%;z-index: -1;}#sk-container-id-1 div.sk-parallel-item {display: flex;flex-direction: column;z-index: 1;position: relative;background-color: white;}#sk-container-id-1 div.sk-parallel-item:first-child::after {align-self: flex-end;width: 50%;}#sk-container-id-1 div.sk-parallel-item:last-child::after {align-self: flex-start;width: 50%;}#sk-container-id-1 div.sk-parallel-item:only-child::after {width: 0;}#sk-container-id-1 div.sk-dashed-wrapped {border: 1px dashed gray;margin: 0 0.4em 0.5em 0.4em;box-sizing: border-box;padding-bottom: 0.4em;background-color: white;}#sk-container-id-1 div.sk-label label {font-family: monospace;font-weight: bold;display: inline-block;line-height: 1.2em;}#sk-container-id-1 div.sk-label-container {text-align: center;}#sk-container-id-1 div.sk-container {/* jupyter's `normalize.less` sets `[hidden] { display: none; }` but bootstrap.min.css set `[hidden] { display: none !important; }` so we also need the `!important` here to be able to override the default hidden behavior on the sphinx rendered scikit-learn.org. See: https://github.com/scikit-learn/scikit-learn/issues/21755 */display: inline-block !important;position: relative;}#sk-container-id-1 div.sk-text-repr-fallback {display: none;}</style><div id=\"sk-container-id-1\" class=\"sk-top-container\"><div class=\"sk-text-repr-fallback\"><pre>SVC(kernel=&#x27;linear&#x27;)</pre><b>In a Jupyter environment, please rerun this cell to show the HTML representation or trust the notebook. <br />On GitHub, the HTML representation is unable to render, please try loading this page with nbviewer.org.</b></div><div class=\"sk-container\" hidden><div class=\"sk-item\"><div class=\"sk-estimator sk-toggleable\"><input class=\"sk-toggleable__control sk-hidden--visually\" id=\"sk-estimator-id-1\" type=\"checkbox\" checked><label for=\"sk-estimator-id-1\" class=\"sk-toggleable__label sk-toggleable__label-arrow\">SVC</label><div class=\"sk-toggleable__content\"><pre>SVC(kernel=&#x27;linear&#x27;)</pre></div></div></div></div></div>"
      ],
      "text/plain": [
       "SVC(kernel='linear')"
      ]
     },
     "execution_count": 47,
     "metadata": {},
     "output_type": "execute_result"
    }
   ],
   "source": [
    "# Treinando o modelo de versão 1.\n",
    "modelo_v1.fit(X_train, y_train)"
   ]
  },
  {
   "cell_type": "code",
   "execution_count": 48,
   "id": "28b2f62f",
   "metadata": {},
   "outputs": [],
   "source": [
    "# Fazendo previsões.\n",
    "previsoes_v1 = modelo_v1.predict(X_test)"
   ]
  },
  {
   "cell_type": "code",
   "execution_count": 50,
   "id": "04baf481",
   "metadata": {},
   "outputs": [],
   "source": [
    "# Métricas obtidas por meio do primeiro modelo.\n",
    "SVM_dict_v1 = {'Modelo':'SVM',\n",
    "               'Versão':'1',\n",
    "               'Kernel':'Linear',\n",
    "               'Precision':precision_score(previsoes_v1, y_test),\n",
    "               'Recall':recall_score(previsoes_v1, y_test),\n",
    "               'F1 Score':f1_score(previsoes_v1, y_test),\n",
    "               'Acurácia':accuracy_score(previsoes_v1, y_test),\n",
    "               'AUC':roc_auc_score(y_test, previsoes_v1)}"
   ]
  },
  {
   "cell_type": "code",
   "execution_count": 51,
   "id": "b26a0235",
   "metadata": {},
   "outputs": [
    {
     "data": {
      "text/plain": [
       "{'Modelo': 'SVM',\n",
       " 'Versão': '1',\n",
       " 'Kernel': 'Linear',\n",
       " 'Precision': 0.7905576679340938,\n",
       " 'Recall': 0.8850656261085491,\n",
       " 'F1 Score': 0.8351464435146443,\n",
       " 'Acurácia': 0.8422738190552442,\n",
       " 'AUC': 0.8428346772820355}"
      ]
     },
     "execution_count": 51,
     "metadata": {},
     "output_type": "execute_result"
    }
   ],
   "source": [
    "# Visualizando as métricas obtidas.\n",
    "SVM_dict_v1"
   ]
  },
  {
   "cell_type": "code",
   "execution_count": 52,
   "id": "485dcfa9",
   "metadata": {},
   "outputs": [],
   "source": [
    "# Instaciando o padronizador dos dados.\n",
    "sc = StandardScaler()"
   ]
  },
  {
   "cell_type": "code",
   "execution_count": 53,
   "id": "b1d788df",
   "metadata": {},
   "outputs": [],
   "source": [
    "# Padronizando os dados.\n",
    "X_train_sca = sc.fit_transform(X_train)\n",
    "X_test_sca = sc.fit_transform(X_test)"
   ]
  },
  {
   "cell_type": "code",
   "execution_count": 54,
   "id": "544b7fab",
   "metadata": {},
   "outputs": [],
   "source": [
    "# Instaciando o segundo modelo.\n",
    "modelo_v2 = svm.SVC(kernel = 'linear')"
   ]
  },
  {
   "cell_type": "code",
   "execution_count": 55,
   "id": "5af3a108",
   "metadata": {},
   "outputs": [
    {
     "data": {
      "text/html": [
       "<style>#sk-container-id-2 {color: black;background-color: white;}#sk-container-id-2 pre{padding: 0;}#sk-container-id-2 div.sk-toggleable {background-color: white;}#sk-container-id-2 label.sk-toggleable__label {cursor: pointer;display: block;width: 100%;margin-bottom: 0;padding: 0.3em;box-sizing: border-box;text-align: center;}#sk-container-id-2 label.sk-toggleable__label-arrow:before {content: \"▸\";float: left;margin-right: 0.25em;color: #696969;}#sk-container-id-2 label.sk-toggleable__label-arrow:hover:before {color: black;}#sk-container-id-2 div.sk-estimator:hover label.sk-toggleable__label-arrow:before {color: black;}#sk-container-id-2 div.sk-toggleable__content {max-height: 0;max-width: 0;overflow: hidden;text-align: left;background-color: #f0f8ff;}#sk-container-id-2 div.sk-toggleable__content pre {margin: 0.2em;color: black;border-radius: 0.25em;background-color: #f0f8ff;}#sk-container-id-2 input.sk-toggleable__control:checked~div.sk-toggleable__content {max-height: 200px;max-width: 100%;overflow: auto;}#sk-container-id-2 input.sk-toggleable__control:checked~label.sk-toggleable__label-arrow:before {content: \"▾\";}#sk-container-id-2 div.sk-estimator input.sk-toggleable__control:checked~label.sk-toggleable__label {background-color: #d4ebff;}#sk-container-id-2 div.sk-label input.sk-toggleable__control:checked~label.sk-toggleable__label {background-color: #d4ebff;}#sk-container-id-2 input.sk-hidden--visually {border: 0;clip: rect(1px 1px 1px 1px);clip: rect(1px, 1px, 1px, 1px);height: 1px;margin: -1px;overflow: hidden;padding: 0;position: absolute;width: 1px;}#sk-container-id-2 div.sk-estimator {font-family: monospace;background-color: #f0f8ff;border: 1px dotted black;border-radius: 0.25em;box-sizing: border-box;margin-bottom: 0.5em;}#sk-container-id-2 div.sk-estimator:hover {background-color: #d4ebff;}#sk-container-id-2 div.sk-parallel-item::after {content: \"\";width: 100%;border-bottom: 1px solid gray;flex-grow: 1;}#sk-container-id-2 div.sk-label:hover label.sk-toggleable__label {background-color: #d4ebff;}#sk-container-id-2 div.sk-serial::before {content: \"\";position: absolute;border-left: 1px solid gray;box-sizing: border-box;top: 0;bottom: 0;left: 50%;z-index: 0;}#sk-container-id-2 div.sk-serial {display: flex;flex-direction: column;align-items: center;background-color: white;padding-right: 0.2em;padding-left: 0.2em;position: relative;}#sk-container-id-2 div.sk-item {position: relative;z-index: 1;}#sk-container-id-2 div.sk-parallel {display: flex;align-items: stretch;justify-content: center;background-color: white;position: relative;}#sk-container-id-2 div.sk-item::before, #sk-container-id-2 div.sk-parallel-item::before {content: \"\";position: absolute;border-left: 1px solid gray;box-sizing: border-box;top: 0;bottom: 0;left: 50%;z-index: -1;}#sk-container-id-2 div.sk-parallel-item {display: flex;flex-direction: column;z-index: 1;position: relative;background-color: white;}#sk-container-id-2 div.sk-parallel-item:first-child::after {align-self: flex-end;width: 50%;}#sk-container-id-2 div.sk-parallel-item:last-child::after {align-self: flex-start;width: 50%;}#sk-container-id-2 div.sk-parallel-item:only-child::after {width: 0;}#sk-container-id-2 div.sk-dashed-wrapped {border: 1px dashed gray;margin: 0 0.4em 0.5em 0.4em;box-sizing: border-box;padding-bottom: 0.4em;background-color: white;}#sk-container-id-2 div.sk-label label {font-family: monospace;font-weight: bold;display: inline-block;line-height: 1.2em;}#sk-container-id-2 div.sk-label-container {text-align: center;}#sk-container-id-2 div.sk-container {/* jupyter's `normalize.less` sets `[hidden] { display: none; }` but bootstrap.min.css set `[hidden] { display: none !important; }` so we also need the `!important` here to be able to override the default hidden behavior on the sphinx rendered scikit-learn.org. See: https://github.com/scikit-learn/scikit-learn/issues/21755 */display: inline-block !important;position: relative;}#sk-container-id-2 div.sk-text-repr-fallback {display: none;}</style><div id=\"sk-container-id-2\" class=\"sk-top-container\"><div class=\"sk-text-repr-fallback\"><pre>SVC(kernel=&#x27;linear&#x27;)</pre><b>In a Jupyter environment, please rerun this cell to show the HTML representation or trust the notebook. <br />On GitHub, the HTML representation is unable to render, please try loading this page with nbviewer.org.</b></div><div class=\"sk-container\" hidden><div class=\"sk-item\"><div class=\"sk-estimator sk-toggleable\"><input class=\"sk-toggleable__control sk-hidden--visually\" id=\"sk-estimator-id-2\" type=\"checkbox\" checked><label for=\"sk-estimator-id-2\" class=\"sk-toggleable__label sk-toggleable__label-arrow\">SVC</label><div class=\"sk-toggleable__content\"><pre>SVC(kernel=&#x27;linear&#x27;)</pre></div></div></div></div></div>"
      ],
      "text/plain": [
       "SVC(kernel='linear')"
      ]
     },
     "execution_count": 55,
     "metadata": {},
     "output_type": "execute_result"
    }
   ],
   "source": [
    "# Treinando o segundo modelo.\n",
    "modelo_v2.fit(X_train_sca, y_train)"
   ]
  },
  {
   "cell_type": "code",
   "execution_count": 56,
   "id": "2030c186",
   "metadata": {},
   "outputs": [],
   "source": [
    "# Fazendo previsões.\n",
    "previsoes_v2 = modelo_v2.predict(X_test_sca)"
   ]
  },
  {
   "cell_type": "code",
   "execution_count": 57,
   "id": "b81abdcc",
   "metadata": {},
   "outputs": [],
   "source": [
    "# Métricas obtidas por meio do segundo modelo.\n",
    "SVM_dict_v2 = {'Modelo':'SVM',\n",
    "               'Versão':'2',\n",
    "               'Kernel':'Linear',\n",
    "               'Precision':precision_score(previsoes_v2, y_test),\n",
    "               'Recall':recall_score(previsoes_v2, y_test),\n",
    "               'F1 Score':f1_score(previsoes_v2, y_test),\n",
    "               'Acurácia':accuracy_score(previsoes_v2, y_test),\n",
    "               'AUC':roc_auc_score(y_test, previsoes_v2)}"
   ]
  },
  {
   "cell_type": "code",
   "execution_count": 58,
   "id": "ad4c8cdd",
   "metadata": {},
   "outputs": [
    {
     "data": {
      "text/plain": [
       "{'Modelo': 'SVM',\n",
       " 'Versão': '2',\n",
       " 'Kernel': 'Linear',\n",
       " 'Precision': 0.7899239543726235,\n",
       " 'Recall': 0.8856127886323268,\n",
       " 'F1 Score': 0.8350360073689499,\n",
       " 'Acurácia': 0.8422738190552442,\n",
       " 'AUC': 0.8428415498635536}"
      ]
     },
     "execution_count": 58,
     "metadata": {},
     "output_type": "execute_result"
    }
   ],
   "source": [
    "# Visualizando as métricas obtidas.\n",
    "SVM_dict_v2"
   ]
  },
  {
   "cell_type": "markdown",
   "id": "0f332e5c",
   "metadata": {},
   "source": [
    "### Otimização de Hiperparâmetros com Grid Search e Kernel RBF"
   ]
  },
  {
   "cell_type": "code",
   "execution_count": 60,
   "id": "d7412e22",
   "metadata": {},
   "outputs": [
    {
     "name": "stdout",
     "output_type": "stream",
     "text": [
      "Acurácia em Treinamento: 87.39%\n",
      "\n",
      "Hiperparâmetros Ideais: {'C': 200.0, 'gamma': 0.003}\n"
     ]
    }
   ],
   "source": [
    "# Criando o terceiro modelo.\n",
    "modelo_v3 = svm.SVC(kernel = 'rbf')\n",
    "\n",
    "# Valores para o grid.\n",
    "C_range = np.array([50., 100., 200.])\n",
    "gamma_range = np.array([0.3*0.001,0.001,3*0.001])\n",
    "\n",
    "# Grid de hiperparâmetros.\n",
    "svm_param_grid = dict(gamma = gamma_range, C = C_range)\n",
    "\n",
    "# Grid Search.\n",
    "modelo_v3_grid_search_rbf = GridSearchCV(modelo_v3, svm_param_grid, cv = 3)\n",
    "\n",
    "# Treinamento.\n",
    "modelo_v3_grid_search_rbf.fit(X_train_sca, y_train)\n",
    "\n",
    "\n",
    "# Acurácia em Treino.\n",
    "print(f\"Acurácia em Treinamento: {modelo_v3_grid_search_rbf.best_score_ :.2%}\")\n",
    "print(\"\")\n",
    "print(f\"Hiperparâmetros Ideais: {modelo_v3_grid_search_rbf.best_params_}\")"
   ]
  },
  {
   "cell_type": "code",
   "execution_count": 61,
   "id": "531972a3",
   "metadata": {},
   "outputs": [],
   "source": [
    "# Previsões.\n",
    "previsoes_v3 = modelo_v3_grid_search_rbf.predict(X_test_sca)"
   ]
  },
  {
   "cell_type": "code",
   "execution_count": 62,
   "id": "1c056eb4",
   "metadata": {},
   "outputs": [],
   "source": [
    "# Métricas obtidas por meio do terceiro modelo.\n",
    "SVM_dict_v3 = {'Modelo':'SVM',\n",
    "               'Versão':'3',\n",
    "               'Kernel':'RBF com Dados Padronizados',\n",
    "               'Precision':precision_score(previsoes_v3, y_test),\n",
    "               'Recall':recall_score(previsoes_v3, y_test),\n",
    "               'F1 Score':f1_score(previsoes_v3, y_test),\n",
    "               'Acurácia':accuracy_score(previsoes_v3, y_test),\n",
    "               'AUC':roc_auc_score(y_test, previsoes_v3)}"
   ]
  },
  {
   "cell_type": "code",
   "execution_count": 63,
   "id": "90e637a4",
   "metadata": {},
   "outputs": [
    {
     "data": {
      "text/plain": [
       "{'Modelo': 'SVM',\n",
       " 'Versão': '3',\n",
       " 'Kernel': 'RBF com Dados Padronizados',\n",
       " 'Precision': 0.8567807351077313,\n",
       " 'Recall': 0.885396201702685,\n",
       " 'F1 Score': 0.87085346215781,\n",
       " 'Acurácia': 0.8715772618094476,\n",
       " 'AUC': 0.8717377291595633}"
      ]
     },
     "execution_count": 63,
     "metadata": {},
     "output_type": "execute_result"
    }
   ],
   "source": [
    "# Visualizando as métricas obtidas.\n",
    "SVM_dict_v3"
   ]
  },
  {
   "cell_type": "markdown",
   "id": "2739015a",
   "metadata": {},
   "source": [
    "### Otimização de Hiperparâmetros com Grid Search e Kernel Polinomial"
   ]
  },
  {
   "cell_type": "code",
   "execution_count": 64,
   "id": "bce250a7",
   "metadata": {},
   "outputs": [
    {
     "name": "stdout",
     "output_type": "stream",
     "text": [
      "Acurácia em Treinamento: 86.53%\n",
      "\n",
      "Hiperparâmetros Ideais: {'coef0': 1.0, 'degree': 4, 'gamma': 0.01}\n"
     ]
    }
   ],
   "source": [
    "# Cria o modelo.\n",
    "modelo_v4 = svm.SVC(kernel = 'poly')\n",
    "\n",
    "# Valores para o grid.\n",
    "r_range =  np.array([0.5, 1])\n",
    "gamma_range =  np.array([0.001, 0.01])\n",
    "d_range = np.array([2,3, 4])\n",
    "\n",
    "# Grid de hiperparâmetros.\n",
    "param_grid_poly = dict(gamma = gamma_range, degree = d_range, coef0 = r_range)\n",
    "\n",
    "# Grid Search.\n",
    "modelo_v4_grid_search_poly = GridSearchCV(modelo_v4, param_grid_poly, cv = 3)\n",
    "\n",
    "# Treinamento.\n",
    "modelo_v4_grid_search_poly.fit(X_train_sca, y_train)\n",
    "\n",
    "# Acurácia em Treino.\n",
    "print(f\"Acurácia em Treinamento: {modelo_v4_grid_search_poly.best_score_ :.2%}\")\n",
    "print(\"\")\n",
    "print(f\"Hiperparâmetros Ideais: {modelo_v4_grid_search_poly.best_params_}\")"
   ]
  },
  {
   "cell_type": "code",
   "execution_count": 65,
   "id": "b54b541a",
   "metadata": {},
   "outputs": [],
   "source": [
    "# Previsões.\n",
    "previsoes_v4 = modelo_v4_grid_search_poly.predict(X_test_sca)"
   ]
  },
  {
   "cell_type": "code",
   "execution_count": 66,
   "id": "b4bbbf36",
   "metadata": {},
   "outputs": [],
   "source": [
    "# Métricas obtidas por meio do terceiro modelo.\n",
    "SVM_dict_v4 = {'Modelo':'SVM',\n",
    "               'Versão':'4',\n",
    "               'Kernel':'Polinomial com Dados Padronizados',\n",
    "               'Precision':precision_score(previsoes_v4, y_test),\n",
    "               'Recall':recall_score(previsoes_v4, y_test),\n",
    "               'F1 Score':f1_score(previsoes_v4, y_test),\n",
    "               'Acurácia':accuracy_score(previsoes_v4, y_test),\n",
    "               'AUC':roc_auc_score(y_test, previsoes_v4)}"
   ]
  },
  {
   "cell_type": "code",
   "execution_count": 67,
   "id": "09388eff",
   "metadata": {},
   "outputs": [
    {
     "data": {
      "text/plain": [
       "{'Modelo': 'SVM',\n",
       " 'Versão': '4',\n",
       " 'Kernel': 'Polinomial com Dados Padronizados',\n",
       " 'Precision': 0.8368187579214195,\n",
       " 'Recall': 0.8835731013716962,\n",
       " 'F1 Score': 0.859560618388934,\n",
       " 'Acurácia': 0.8618094475580464,\n",
       " 'AUC': 0.8620804699286604}"
      ]
     },
     "execution_count": 67,
     "metadata": {},
     "output_type": "execute_result"
    }
   ],
   "source": [
    "# Visualizando as métricas obtidas.\n",
    "SVM_dict_v4"
   ]
  },
  {
   "cell_type": "code",
   "execution_count": 68,
   "id": "03e89939",
   "metadata": {},
   "outputs": [],
   "source": [
    "# Concatena todos os dicionários em um dataframe do Pandas.\n",
    "resumo = pd.DataFrame({'SVM_dict_v1':pd.Series(SVM_dict_v1),\n",
    "                       'SVM_dict_v2':pd.Series(SVM_dict_v2),\n",
    "                       'SVM_dict_v3':pd.Series(SVM_dict_v3),\n",
    "                       'SVM_dict_v4':pd.Series(SVM_dict_v4)})"
   ]
  },
  {
   "cell_type": "code",
   "execution_count": 69,
   "id": "f79716c6",
   "metadata": {},
   "outputs": [
    {
     "data": {
      "text/html": [
       "<div>\n",
       "<style scoped>\n",
       "    .dataframe tbody tr th:only-of-type {\n",
       "        vertical-align: middle;\n",
       "    }\n",
       "\n",
       "    .dataframe tbody tr th {\n",
       "        vertical-align: top;\n",
       "    }\n",
       "\n",
       "    .dataframe thead th {\n",
       "        text-align: right;\n",
       "    }\n",
       "</style>\n",
       "<table border=\"1\" class=\"dataframe\">\n",
       "  <thead>\n",
       "    <tr style=\"text-align: right;\">\n",
       "      <th></th>\n",
       "      <th>SVM_dict_v1</th>\n",
       "      <th>SVM_dict_v2</th>\n",
       "      <th>SVM_dict_v3</th>\n",
       "      <th>SVM_dict_v4</th>\n",
       "    </tr>\n",
       "  </thead>\n",
       "  <tbody>\n",
       "    <tr>\n",
       "      <th>Modelo</th>\n",
       "      <td>SVM</td>\n",
       "      <td>SVM</td>\n",
       "      <td>SVM</td>\n",
       "      <td>SVM</td>\n",
       "    </tr>\n",
       "    <tr>\n",
       "      <th>Versão</th>\n",
       "      <td>1</td>\n",
       "      <td>2</td>\n",
       "      <td>3</td>\n",
       "      <td>4</td>\n",
       "    </tr>\n",
       "    <tr>\n",
       "      <th>Kernel</th>\n",
       "      <td>Linear</td>\n",
       "      <td>Linear</td>\n",
       "      <td>RBF com Dados Padronizados</td>\n",
       "      <td>Polinomial com Dados Padronizados</td>\n",
       "    </tr>\n",
       "    <tr>\n",
       "      <th>Precision</th>\n",
       "      <td>0.790558</td>\n",
       "      <td>0.789924</td>\n",
       "      <td>0.856781</td>\n",
       "      <td>0.836819</td>\n",
       "    </tr>\n",
       "    <tr>\n",
       "      <th>Recall</th>\n",
       "      <td>0.885066</td>\n",
       "      <td>0.885613</td>\n",
       "      <td>0.885396</td>\n",
       "      <td>0.883573</td>\n",
       "    </tr>\n",
       "    <tr>\n",
       "      <th>F1 Score</th>\n",
       "      <td>0.835146</td>\n",
       "      <td>0.835036</td>\n",
       "      <td>0.870853</td>\n",
       "      <td>0.859561</td>\n",
       "    </tr>\n",
       "    <tr>\n",
       "      <th>Acurácia</th>\n",
       "      <td>0.842274</td>\n",
       "      <td>0.842274</td>\n",
       "      <td>0.871577</td>\n",
       "      <td>0.861809</td>\n",
       "    </tr>\n",
       "    <tr>\n",
       "      <th>AUC</th>\n",
       "      <td>0.842835</td>\n",
       "      <td>0.842842</td>\n",
       "      <td>0.871738</td>\n",
       "      <td>0.86208</td>\n",
       "    </tr>\n",
       "  </tbody>\n",
       "</table>\n",
       "</div>"
      ],
      "text/plain": [
       "          SVM_dict_v1 SVM_dict_v2                 SVM_dict_v3  \\\n",
       "Modelo            SVM         SVM                         SVM   \n",
       "Versão              1           2                           3   \n",
       "Kernel         Linear      Linear  RBF com Dados Padronizados   \n",
       "Precision    0.790558    0.789924                    0.856781   \n",
       "Recall       0.885066    0.885613                    0.885396   \n",
       "F1 Score     0.835146    0.835036                    0.870853   \n",
       "Acurácia     0.842274    0.842274                    0.871577   \n",
       "AUC          0.842835    0.842842                    0.871738   \n",
       "\n",
       "                                 SVM_dict_v4  \n",
       "Modelo                                   SVM  \n",
       "Versão                                     4  \n",
       "Kernel     Polinomial com Dados Padronizados  \n",
       "Precision                           0.836819  \n",
       "Recall                              0.883573  \n",
       "F1 Score                            0.859561  \n",
       "Acurácia                            0.861809  \n",
       "AUC                                  0.86208  "
      ]
     },
     "execution_count": 69,
     "metadata": {},
     "output_type": "execute_result"
    }
   ],
   "source": [
    "# Visualizando o resumo.\n",
    "resumo"
   ]
  },
  {
   "cell_type": "markdown",
   "id": "5b78f713",
   "metadata": {},
   "source": [
    "### PREVISÕES COM O MELHOR MODELO FEITO"
   ]
  },
  {
   "cell_type": "code",
   "execution_count": 70,
   "id": "3d82aaba",
   "metadata": {},
   "outputs": [],
   "source": [
    "# Novo registro.\n",
    "novo_x = np.array([4.0, 5.56, 1.0, 3.78, 2.995, 6.00, 0.69, 0.70, 0.69, 0, 6, 1, 1, 3, 3, 2, False]).reshape(1, -1)"
   ]
  },
  {
   "cell_type": "code",
   "execution_count": 71,
   "id": "ca3ab2d1",
   "metadata": {},
   "outputs": [],
   "source": [
    "# Padronizando o registro.\n",
    "novo_x_scaled = StandardScaler().fit_transform(novo_x)"
   ]
  },
  {
   "cell_type": "code",
   "execution_count": 72,
   "id": "5bddc4e3",
   "metadata": {},
   "outputs": [],
   "source": [
    "# Realizando previsões.\n",
    "previsao_novo_x = modelo_v3_grid_search_rbf.predict(novo_x_scaled)"
   ]
  },
  {
   "cell_type": "code",
   "execution_count": 73,
   "id": "c3e27801",
   "metadata": {},
   "outputs": [
    {
     "data": {
      "text/plain": [
       "array([ True])"
      ]
     },
     "execution_count": 73,
     "metadata": {},
     "output_type": "execute_result"
    }
   ],
   "source": [
    "# Verificando a previsão.\n",
    "previsao_novo_x"
   ]
  }
 ],
 "metadata": {
  "kernelspec": {
   "display_name": "Python 3.10.4 64-bit",
   "language": "python",
   "name": "python3"
  },
  "language_info": {
   "codemirror_mode": {
    "name": "ipython",
    "version": 3
   },
   "file_extension": ".py",
   "mimetype": "text/x-python",
   "name": "python",
   "nbconvert_exporter": "python",
   "pygments_lexer": "ipython3",
   "version": "3.10.4"
  },
  "vscode": {
   "interpreter": {
    "hash": "916dbcbb3f70747c44a77c7bcd40155683ae19c65e1c03b4aa3499c5328201f1"
   }
  }
 },
 "nbformat": 4,
 "nbformat_minor": 5
}
